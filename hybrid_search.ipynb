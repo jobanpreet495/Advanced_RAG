{
 "cells": [
  {
   "cell_type": "markdown",
   "id": "69f1f400-d2a7-4a85-8e8f-56df23b9c7bb",
   "metadata": {},
   "source": [
    "## Combining BM25 and Semantic Search"
   ]
  },
  {
   "cell_type": "markdown",
   "id": "e16982d8-0635-47ff-b69a-6abcb6d4d5a5",
   "metadata": {},
   "source": [
    "#### In this notebook we will compare the context relevance between normal retriever (Semantic search) and Hybrid Search (Which is the combination of Keyword based search and semantic search) . We will use Uptrain for finding relevance score ."
   ]
  },
  {
   "cell_type": "code",
   "execution_count": 61,
   "id": "19ddf75c-5dad-49d6-b200-d6b2bdb1ae15",
   "metadata": {},
   "outputs": [],
   "source": [
    "from langchain.embeddings import  OpenAIEmbeddings  \n",
    "from langchain.vectorstores import FAISS \n",
    "from langchain.retrievers import BM25Retriever ,EnsembleRetriever\n",
    "from langchain.chat_models import ChatOpenAI \n",
    "from langchain.text_splitter import RecursiveCharacterTextSplitter  \n",
    "from langchain.document_loaders import WebBaseLoader\n",
    "from langchain_core.output_parsers import StrOutputParser\n",
    "from langchain_core.runnables import RunnablePassthrough\n",
    "from langchain import hub"
   ]
  },
  {
   "cell_type": "code",
   "execution_count": 2,
   "id": "25718a26-06e3-4943-88ed-e6599567deaa",
   "metadata": {},
   "outputs": [],
   "source": [
    "import  os\n",
    "os.environ['OPENAI_API_KEY'] = \"\""
   ]
  },
  {
   "cell_type": "code",
   "execution_count": 44,
   "id": "8028d1c7-0acf-47c5-b314-e4c00607fc0c",
   "metadata": {},
   "outputs": [],
   "source": [
    "# Load data \n",
    "url = \"https://medium.com/@singhjoban495/linear-regression-in-details-c0e27c4f24aa\"\n",
    "loader  = WebBaseLoader(url)\n",
    "docs = loader.load()"
   ]
  },
  {
   "cell_type": "code",
   "execution_count": 45,
   "id": "77d6e04d-558a-4a60-8e9d-0de689bf7f69",
   "metadata": {},
   "outputs": [],
   "source": [
    "# Split data into chunks\n",
    "text_splitter = RecursiveCharacterTextSplitter(chunk_size=1000 ,chunk_overlap = 100)\n",
    "texts = text_splitter.split_documents(docs)"
   ]
  },
  {
   "cell_type": "code",
   "execution_count": 46,
   "id": "df4981c5-b1a0-461f-8a78-176e3bd16424",
   "metadata": {},
   "outputs": [
    {
     "data": {
      "text/plain": [
       "6"
      ]
     },
     "execution_count": 46,
     "metadata": {},
     "output_type": "execute_result"
    }
   ],
   "source": [
    "len(texts)"
   ]
  },
  {
   "cell_type": "code",
   "execution_count": 47,
   "id": "ad01e3ea-3cf5-4900-90fc-fdf6e82e0db5",
   "metadata": {},
   "outputs": [],
   "source": [
    "# Create vectorstore using FAISS\n",
    "embeddings = OpenAIEmbeddings() \n",
    "faiss_vectorstore = FAISS.from_documents(texts , embeddings)"
   ]
  },
  {
   "cell_type": "code",
   "execution_count": 55,
   "id": "706baf9d-0eb6-4bcd-ba65-92e70431f667",
   "metadata": {},
   "outputs": [],
   "source": [
    "# create sparse embedding , create a comibation of keyword based and semantcic search based retriever using EnsembleRetriever     Best Match25\n",
    "bm25 =  BM25Retriever.from_documents(texts)\n",
    "bm25.k=2\n",
    "faiss_retriever2 = faiss_vectorstore.as_retriever(search_kwargs={'k':3})\n",
    "ensemble_retriever = EnsembleRetriever(retrievers=[bm25 , faiss_retriever2] , weights = [0.5,0.5])"
   ]
  },
  {
   "cell_type": "markdown",
   "id": "efb24b15-f5e2-4c66-ac7a-cc6da69405b0",
   "metadata": {},
   "source": [
    "#####  Retrieving Hybrid based retriever /EnsembleRetriever"
   ]
  },
  {
   "cell_type": "code",
   "execution_count": 56,
   "id": "069dc29c-a7a8-4cce-9e34-a422b56c753f",
   "metadata": {},
   "outputs": [],
   "source": [
    "query = \"What is Linear regression ?\""
   ]
  },
  {
   "cell_type": "code",
   "execution_count": 57,
   "id": "91a9e5f2-fd42-4aa3-b051-b003a8317a92",
   "metadata": {},
   "outputs": [
    {
     "name": "stdout",
     "output_type": "stream",
     "text": [
      "CPU times: user 27.6 ms, sys: 4.58 ms, total: 32.1 ms\n",
      "Wall time: 523 ms\n"
     ]
    }
   ],
   "source": [
    "%%time\n",
    "docs = ensemble_retriever.invoke(query)"
   ]
  },
  {
   "cell_type": "code",
   "execution_count": 58,
   "id": "73cfd8df-449d-49b9-a74f-fa81fa4661cc",
   "metadata": {},
   "outputs": [
    {
     "data": {
      "text/plain": [
       "3"
      ]
     },
     "execution_count": 58,
     "metadata": {},
     "output_type": "execute_result"
    }
   ],
   "source": [
    "len(docs)"
   ]
  },
  {
   "cell_type": "code",
   "execution_count": 59,
   "id": "fd099111-ff81-4ae2-93cd-28f718fc75a6",
   "metadata": {},
   "outputs": [
    {
     "data": {
      "text/plain": [
       "[Document(page_content='between the independent variables (x-axis) and dependent variable (y-axis).Types of Linear RegressionSimple Linear Regression: If there is only a single independent variable. Ex: In our dataset, cgpa (independent variable) and we have to predict package(dependent variable).Multiple Linear Regression: If there is more one independent variable is present in the dataset, then we can apply multiple linear regression. eg: cgpa,studytime are two independent variables or even more can exists.Regression is defined as the line or curve that passes through all the data points on the target-predictor graph with the shortest vertical distance between the data points and regression line.Completely linear dataThis is completely linear data, but in real world data,it si difficult to find completely linear data,we have a sort of linear data . You can see the image below.Y=mx+b is the equation of the line.Y-Dependent variablem=slopex=independent variable(data point)b=interceptMathematical intuition of', metadata={'source': 'https://medium.com/@singhjoban495/linear-regression-in-details-c0e27c4f24aa', 'title': 'Linear Regression in Details. In this blog, I have explained Linear… | by Jobanpreet SIngh | Medium', 'description': 'In this blog, I have explained Linear Regression in details.You will get a complete understanding of this algorithm from the basic to the advance level.I have mentioned theoretical and mathematical…', 'language': 'en'}),\n",
       " Document(page_content='Linear Regression in Details. In this blog, I have explained Linear… | by Jobanpreet SIngh | MediumOpen in appSign upSign inWriteSign upSign inLinear Regression in DetailsJobanpreet SIngh·Follow4 min read·Aug 9, 2023--ListenShareIn this blog, I have explained Linear Regression in details.You will get a complete understanding of this algorithm from the basic to the advance level.I have mentioned theoretical and mathematical concepts along with practical implementation. After reading this blog, you will be very confident and can further deep dive into complex algorithms. So, lets move further.What is Linear Regression ?It is the supervised machine learning algorithm. It is used for predicting the continuous values. continuous values are the values within a given range and have a infinite possibilities. eg: weight,height,temperature etc. Linear regression shows the linear relationship between the independent variables (x-axis) and dependent variable (y-axis).Types of Linear', metadata={'source': 'https://medium.com/@singhjoban495/linear-regression-in-details-c0e27c4f24aa', 'title': 'Linear Regression in Details. In this blog, I have explained Linear… | by Jobanpreet SIngh | Medium', 'description': 'In this blog, I have explained Linear Regression in details.You will get a complete understanding of this algorithm from the basic to the advance level.I have mentioned theoretical and mathematical…', 'language': 'en'}),\n",
       " Document(page_content='variablem=slopex=independent variable(data point)b=interceptMathematical intuition of Linear RegressionIn linear regression , our main goal is to find best fit line,to do that we have to reduce the distance between between predicted and actual values.Here we are taking only nine datapoints for understanding ,so distance will be d1(for first data point),d2(for second data point ) and so on upto d9.I can take the sum of these distances as:E=d1+d2+d3+d4+d5+d6+d7+d8+d9we have to reduce the value of E to find the best fit line which try to pass through all the data points for which our loss should be minimum.I can write the above equation as:Why we are squaring it?Because distances are above the line and below the line also.DIstance below the line is negative and when we add +ve and -ve ,they will cancel out .We can also take modulus to make -ve term to +ve term ,why we didn’t that?The reason is graph of the modulus is not differentiable at zero whereas graph of square is differentiable.we', metadata={'source': 'https://medium.com/@singhjoban495/linear-regression-in-details-c0e27c4f24aa', 'title': 'Linear Regression in Details. In this blog, I have explained Linear… | by Jobanpreet SIngh | Medium', 'description': 'In this blog, I have explained Linear Regression in details.You will get a complete understanding of this algorithm from the basic to the advance level.I have mentioned theoretical and mathematical…', 'language': 'en'})]"
      ]
     },
     "execution_count": 59,
     "metadata": {},
     "output_type": "execute_result"
    }
   ],
   "source": [
    "docs"
   ]
  },
  {
   "cell_type": "code",
   "execution_count": 62,
   "id": "2d44adc9-e250-46eb-9287-0122efe354c5",
   "metadata": {},
   "outputs": [
    {
     "name": "stderr",
     "output_type": "stream",
     "text": [
      "/home/erginous/anaconda3/envs/RAG/lib/python3.10/site-packages/langchain_core/_api/deprecation.py:119: LangChainDeprecationWarning: The class `ChatOpenAI` was deprecated in LangChain 0.0.10 and will be removed in 0.3.0. An updated version of the class exists in the langchain-openai package and should be used instead. To use it run `pip install -U langchain-openai` and import as `from langchain_openai import ChatOpenAI`.\n",
      "  warn_deprecated(\n"
     ]
    }
   ],
   "source": [
    "prompt = hub.pull(\"rlm/rag-prompt\")\n",
    "llm = ChatOpenAI()\n",
    "\n",
    "def format_docs(docs):\n",
    "    return \"\\n\\n\".join(doc.page_content for doc in docs)\n",
    "\n",
    "\n",
    "rag_chain = (\n",
    "    {\"context\": ensemble_retriever | format_docs, \"question\": RunnablePassthrough()}\n",
    "    | prompt\n",
    "    | llm\n",
    "    | StrOutputParser()\n",
    ")"
   ]
  },
  {
   "cell_type": "code",
   "execution_count": 63,
   "id": "28d861be-cc2d-4b26-95fd-18dd8174dc60",
   "metadata": {},
   "outputs": [
    {
     "data": {
      "text/plain": [
       "'Linear regression is a supervised machine learning algorithm used for predicting continuous values by showing the linear relationship between independent and dependent variables. There are two types: simple linear regression with one independent variable and multiple linear regression with more than one independent variable. The main goal of linear regression is to find the best-fit line that minimizes the distance between predicted and actual values.'"
      ]
     },
     "execution_count": 63,
     "metadata": {},
     "output_type": "execute_result"
    }
   ],
   "source": [
    "rag_chain.invoke(query)"
   ]
  },
  {
   "cell_type": "code",
   "execution_count": null,
   "id": "012e3f37-ceb9-4f1f-bf1e-d4f086eca439",
   "metadata": {},
   "outputs": [],
   "source": []
  }
 ],
 "metadata": {
  "kernelspec": {
   "display_name": "Python 3 (ipykernel)",
   "language": "python",
   "name": "python3"
  },
  "language_info": {
   "codemirror_mode": {
    "name": "ipython",
    "version": 3
   },
   "file_extension": ".py",
   "mimetype": "text/x-python",
   "name": "python",
   "nbconvert_exporter": "python",
   "pygments_lexer": "ipython3",
   "version": "3.10.0"
  }
 },
 "nbformat": 4,
 "nbformat_minor": 5
}
