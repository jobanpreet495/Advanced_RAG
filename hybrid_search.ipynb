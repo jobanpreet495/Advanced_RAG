{
 "cells": [
  {
   "cell_type": "markdown",
   "id": "69f1f400-d2a7-4a85-8e8f-56df23b9c7bb",
   "metadata": {},
   "source": [
    "## Combining BM25 and Semantic Search"
   ]
  },
  {
   "cell_type": "markdown",
   "id": "e16982d8-0635-47ff-b69a-6abcb6d4d5a5",
   "metadata": {},
   "source": [
    "#### In this notebook we will compare the context relevance between normal retriever (Semantic search) and Hybrid Search (Which is the combination of Keyword based search and semantic search) . We will use Uptrain for finding relevance score ."
   ]
  },
  {
   "cell_type": "code",
   "execution_count": 1,
   "id": "19ddf75c-5dad-49d6-b200-d6b2bdb1ae15",
   "metadata": {},
   "outputs": [],
   "source": [
    "from langchain.embeddings import  OpenAIEmbeddings  \n",
    "from langchain.vectorstores import FAISS \n",
    "from langchain.retrievers import BM25Retriever ,EnsembleRetriever\n",
    "from langchain.chat_models import ChatOpenAI \n",
    "from langchain.text_splitter import RecursiveCharacterTextSplitter  \n",
    "from langchain.document_loaders import WebBaseLoader\n",
    "from langchain.chains import RetrievalQA"
   ]
  },
  {
   "cell_type": "code",
   "execution_count": 2,
   "id": "25718a26-06e3-4943-88ed-e6599567deaa",
   "metadata": {},
   "outputs": [],
   "source": [
    "import  os\n",
    "os.environ['OPENAI_API_KEY'] = \"\""
   ]
  },
  {
   "cell_type": "code",
   "execution_count": 3,
   "id": "8028d1c7-0acf-47c5-b314-e4c00607fc0c",
   "metadata": {},
   "outputs": [],
   "source": [
    "# Load data \n",
    "url = \"https://medium.com/@singhjoban495/linear-regression-in-details-c0e27c4f24aa\"\n",
    "loader  = WebBaseLoader(url)\n",
    "docs = loader.load()"
   ]
  },
  {
   "cell_type": "code",
   "execution_count": 4,
   "id": "77d6e04d-558a-4a60-8e9d-0de689bf7f69",
   "metadata": {},
   "outputs": [],
   "source": [
    "# Split data into chunks\n",
    "text_splitter = RecursiveCharacterTextSplitter(chunk_size=1000 ,chunk_overlap = 100)\n",
    "texts = text_splitter.split_documents(docs)"
   ]
  },
  {
   "cell_type": "code",
   "execution_count": 5,
   "id": "df4981c5-b1a0-461f-8a78-176e3bd16424",
   "metadata": {},
   "outputs": [
    {
     "data": {
      "text/plain": [
       "6"
      ]
     },
     "execution_count": 5,
     "metadata": {},
     "output_type": "execute_result"
    }
   ],
   "source": [
    "len(texts)"
   ]
  },
  {
   "cell_type": "code",
   "execution_count": 6,
   "id": "ad01e3ea-3cf5-4900-90fc-fdf6e82e0db5",
   "metadata": {},
   "outputs": [
    {
     "name": "stderr",
     "output_type": "stream",
     "text": [
      "/home/erginous/anaconda3/envs/RAG/lib/python3.10/site-packages/langchain_core/_api/deprecation.py:119: LangChainDeprecationWarning: The class `OpenAIEmbeddings` was deprecated in LangChain 0.0.9 and will be removed in 0.3.0. An updated version of the class exists in the langchain-openai package and should be used instead. To use it run `pip install -U langchain-openai` and import as `from langchain_openai import OpenAIEmbeddings`.\n",
      "  warn_deprecated(\n"
     ]
    }
   ],
   "source": [
    "# Create vectorstore using FAISS\n",
    "embeddings = OpenAIEmbeddings() \n",
    "faiss_vectorstore = FAISS.from_documents(texts , embeddings)"
   ]
  },
  {
   "cell_type": "code",
   "execution_count": 14,
   "id": "8cf09fe1-3e8f-4c29-b817-90779e6786f6",
   "metadata": {},
   "outputs": [],
   "source": [
    "# Retriever FAISS\n",
    "faiss_retriever  = faiss_vectorstore.as_retriever(search_kwargs={'k':3})"
   ]
  },
  {
   "cell_type": "code",
   "execution_count": 15,
   "id": "706baf9d-0eb6-4bcd-ba65-92e70431f667",
   "metadata": {},
   "outputs": [],
   "source": [
    "# create sparse embedding , create a comibation of keyword based and semantcic search based retriever using EnsembleRetriever     Best Match25\n",
    "bm25 =  BM25Retriever.from_documents(texts)\n",
    "bm25.k=2\n",
    "faiss_retriever2 = faiss_vectorstore.as_retriever(search_kwargs={'k':2})\n",
    "ensemble_retriever = EnsembleRetriever(retrievers=[bm25 , faiss_retriever2] , weights = [0.5,0.5])"
   ]
  },
  {
   "cell_type": "markdown",
   "id": "0434f3c6-4507-4a3f-8723-1d32d9dc7017",
   "metadata": {},
   "source": [
    "##### Define a function to calculate context relevance using Uptrain"
   ]
  },
  {
   "cell_type": "code",
   "execution_count": 11,
   "id": "4733bf34-adda-4fcf-814f-a4b1a7de59d9",
   "metadata": {},
   "outputs": [
    {
     "name": "stderr",
     "output_type": "stream",
     "text": [
      "/home/erginous/anaconda3/envs/RAG/lib/python3.10/site-packages/lazy_loader/__init__.py:202: RuntimeWarning: subpackages can technically be lazily loaded, but it causes the package to be eagerly loaded even if it is already lazily loaded.So, you probably shouldn't use subpackages with this lazy feature.\n",
      "  warnings.warn(msg, RuntimeWarning)\n"
     ]
    }
   ],
   "source": [
    "from uptrain import EvalLLM, Evals\n",
    "\n",
    "def relevance_score(query , context):\n",
    "    data = [{\n",
    "        \"question\": query,\n",
    "        \"context\": context\n",
    "    }]\n",
    "    \n",
    "    OPENAI_API_KEY = \"\"\n",
    "    \n",
    "    eval_llm = EvalLLM(openai_api_key=OPENAI_API_KEY)\n",
    "    \n",
    "    res = eval_llm.evaluate(\n",
    "        data = data,\n",
    "        checks = [Evals.CONTEXT_RELEVANCE]\n",
    "    )\n",
    "    return res\n"
   ]
  },
  {
   "cell_type": "markdown",
   "id": "aa4c0dc3-3506-484d-971b-ca1f4383702c",
   "metadata": {},
   "source": [
    "#####  Retrieving and evaluating Semantic search based retriever"
   ]
  },
  {
   "cell_type": "code",
   "execution_count": 16,
   "id": "92a7e3bd-8646-4fa6-81e6-01f74666b69d",
   "metadata": {},
   "outputs": [],
   "source": [
    "query  = \"What is Linear regression ?\""
   ]
  },
  {
   "cell_type": "code",
   "execution_count": 33,
   "id": "064e4758-95fc-4b64-9be8-20b1b6084236",
   "metadata": {},
   "outputs": [
    {
     "name": "stdout",
     "output_type": "stream",
     "text": [
      "CPU times: user 29.8 ms, sys: 171 µs, total: 29.9 ms\n",
      "Wall time: 5.52 s\n"
     ]
    }
   ],
   "source": [
    "%%time\n",
    "ocs = faiss_retriever.invoke(query)\n",
    "context = \"\"\n",
    "for i in docs:\n",
    "    context+=i.page_content"
   ]
  },
  {
   "cell_type": "code",
   "execution_count": 19,
   "id": "13c83899-a1b2-41e9-95e2-73404b23d879",
   "metadata": {},
   "outputs": [
    {
     "name": "stderr",
     "output_type": "stream",
     "text": [
      "\u001b[32m2024-06-26 12:44:24.531\u001b[0m | \u001b[33m\u001b[1mWARNING \u001b[0m | \u001b[36muptrain.operators.language.llm\u001b[0m:\u001b[36mfetch_responses\u001b[0m:\u001b[36m268\u001b[0m - \u001b[33m\u001b[1mDetected a running event loop, scheduling requests in a separate thread.\u001b[0m\n",
      "100%|█████████████████████████████████████████████| 1/1 [00:19<00:00, 19.01s/it]\n",
      "/home/erginous/anaconda3/envs/RAG/lib/python3.10/site-packages/uptrain/operators/language/llm.py:271: RuntimeWarning: coroutine 'LLMMulticlient.async_fetch_responses' was never awaited\n",
      "  with ThreadPoolExecutor(max_workers=1) as executor:\n",
      "RuntimeWarning: Enable tracemalloc to get the object allocation traceback\n",
      "\u001b[32m2024-06-26 12:44:43.560\u001b[0m | \u001b[1mINFO    \u001b[0m | \u001b[36muptrain.framework.evalllm\u001b[0m:\u001b[36mevaluate\u001b[0m:\u001b[36m376\u001b[0m - \u001b[1mLocal server not running, start the server to log data and visualize in the dashboard!\u001b[0m\n"
     ]
    }
   ],
   "source": [
    "# Evaluation\n",
    "score = relevance_score(query , context)"
   ]
  },
  {
   "cell_type": "code",
   "execution_count": 37,
   "id": "b0b5658b-88bf-4df6-ba62-0ab40b5044bf",
   "metadata": {},
   "outputs": [
    {
     "data": {
      "text/plain": [
       "0.5"
      ]
     },
     "execution_count": 37,
     "metadata": {},
     "output_type": "execute_result"
    }
   ],
   "source": [
    "score[0]['score_context_relevance']"
   ]
  },
  {
   "cell_type": "markdown",
   "id": "efb24b15-f5e2-4c66-ac7a-cc6da69405b0",
   "metadata": {},
   "source": [
    "#####  Retrieving and evaluating Hybrid based retriever /EnsembleRetriever"
   ]
  },
  {
   "cell_type": "code",
   "execution_count": 34,
   "id": "91a9e5f2-fd42-4aa3-b051-b003a8317a92",
   "metadata": {},
   "outputs": [
    {
     "name": "stdout",
     "output_type": "stream",
     "text": [
      "CPU times: user 15.1 ms, sys: 0 ns, total: 15.1 ms\n",
      "Wall time: 425 ms\n"
     ]
    }
   ],
   "source": [
    "%%time\n",
    "docs2 = ensemble_retriever.invoke(query)\n",
    "context2 = \"\"\n",
    "for i in docs2:\n",
    "    context2+=i.page_content"
   ]
  },
  {
   "cell_type": "code",
   "execution_count": 26,
   "id": "9a29a3fc-76e6-4fd1-8ed5-09d1d7981276",
   "metadata": {},
   "outputs": [
    {
     "name": "stderr",
     "output_type": "stream",
     "text": [
      "\u001b[32m2024-06-26 12:47:22.117\u001b[0m | \u001b[33m\u001b[1mWARNING \u001b[0m | \u001b[36muptrain.operators.language.llm\u001b[0m:\u001b[36mfetch_responses\u001b[0m:\u001b[36m268\u001b[0m - \u001b[33m\u001b[1mDetected a running event loop, scheduling requests in a separate thread.\u001b[0m\n",
      "100%|█████████████████████████████████████████████| 1/1 [00:17<00:00, 17.01s/it]\n",
      "/home/erginous/anaconda3/envs/RAG/lib/python3.10/site-packages/uptrain/operators/language/llm.py:271: RuntimeWarning: coroutine 'LLMMulticlient.async_fetch_responses' was never awaited\n",
      "  with ThreadPoolExecutor(max_workers=1) as executor:\n",
      "RuntimeWarning: Enable tracemalloc to get the object allocation traceback\n",
      "\u001b[32m2024-06-26 12:47:39.149\u001b[0m | \u001b[1mINFO    \u001b[0m | \u001b[36muptrain.framework.evalllm\u001b[0m:\u001b[36mevaluate\u001b[0m:\u001b[36m376\u001b[0m - \u001b[1mLocal server not running, start the server to log data and visualize in the dashboard!\u001b[0m\n"
     ]
    }
   ],
   "source": [
    "# Evaluation\n",
    "score2 = relevance_score(query , context2)"
   ]
  },
  {
   "cell_type": "code",
   "execution_count": 35,
   "id": "067cd64d-6e34-4c2f-aec3-300ddbcd7f67",
   "metadata": {},
   "outputs": [
    {
     "data": {
      "text/plain": [
       "1.0"
      ]
     },
     "execution_count": 35,
     "metadata": {},
     "output_type": "execute_result"
    }
   ],
   "source": [
    "score2[0]['score_context_relevance']"
   ]
  },
  {
   "cell_type": "code",
   "execution_count": 36,
   "id": "7d56a0c0-aef8-4a8b-a0c8-b73d6bc0500a",
   "metadata": {},
   "outputs": [
    {
     "data": {
      "text/plain": [
       "[{'question': 'What is Linear regression ?',\n",
       "  'context': 'between the independent variables (x-axis) and dependent variable (y-axis).Types of Linear RegressionSimple Linear Regression: If there is only a single independent variable. Ex: In our dataset, cgpa (independent variable) and we have to predict package(dependent variable).Multiple Linear Regression: If there is more one independent variable is present in the dataset, then we can apply multiple linear regression. eg: cgpa,studytime are two independent variables or even more can exists.Regression is defined as the line or curve that passes through all the data points on the target-predictor graph with the shortest vertical distance between the data points and regression line.Completely linear dataThis is completely linear data, but in real world data,it si difficult to find completely linear data,we have a sort of linear data . You can see the image below.Y=mx+b is the equation of the line.Y-Dependent variablem=slopex=independent variable(data point)b=interceptMathematical intuition ofLinear Regression in Details. In this blog, I have explained Linear… | by Jobanpreet SIngh | MediumOpen in appSign upSign inWriteSign upSign inLinear Regression in DetailsJobanpreet SIngh·Follow4 min read·Aug 9, 2023--ListenShareIn this blog, I have explained Linear Regression in details.You will get a complete understanding of this algorithm from the basic to the advance level.I have mentioned theoretical and mathematical concepts along with practical implementation. After reading this blog, you will be very confident and can further deep dive into complex algorithms. So, lets move further.What is Linear Regression ?It is the supervised machine learning algorithm. It is used for predicting the continuous values. continuous values are the values within a given range and have a infinite possibilities. eg: weight,height,temperature etc. Linear regression shows the linear relationship between the independent variables (x-axis) and dependent variable (y-axis).Types of Linear',\n",
       "  'score_context_relevance': 1.0,\n",
       "  'explanation_context_relevance': '{\\n    \"Reasoning\": \"The given context can answer the given question completely because it provides a detailed explanation of what Linear Regression is, including its definition, types, and mathematical intuition. The context also explains the linear relationship between independent and dependent variables, making it sufficient to answer the query.\",\\n    \"Choice\": \"A\"\\n}'}]"
      ]
     },
     "execution_count": 36,
     "metadata": {},
     "output_type": "execute_result"
    }
   ],
   "source": [
    "score2"
   ]
  },
  {
   "cell_type": "code",
   "execution_count": null,
   "id": "78c9d3a2-e7fe-41cd-9e68-2a8b91eebbd7",
   "metadata": {},
   "outputs": [],
   "source": []
  }
 ],
 "metadata": {
  "kernelspec": {
   "display_name": "Python 3 (ipykernel)",
   "language": "python",
   "name": "python3"
  },
  "language_info": {
   "codemirror_mode": {
    "name": "ipython",
    "version": 3
   },
   "file_extension": ".py",
   "mimetype": "text/x-python",
   "name": "python",
   "nbconvert_exporter": "python",
   "pygments_lexer": "ipython3",
   "version": "3.10.0"
  }
 },
 "nbformat": 4,
 "nbformat_minor": 5
}
